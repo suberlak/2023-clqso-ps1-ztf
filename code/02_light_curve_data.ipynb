{
 "cells": [
  {
   "cell_type": "markdown",
   "id": "1b82a157",
   "metadata": {},
   "source": [
    "# Get SDSS QSO data "
   ]
  },
  {
   "cell_type": "markdown",
   "id": "511ab572",
   "metadata": {},
   "source": [
    "The data is located at https://faculty.washington.edu/ivezic/macleod/qso_dr7/Southern.html \n"
   ]
  },
  {
   "cell_type": "code",
   "execution_count": null,
   "id": "9202194b",
   "metadata": {
    "scrolled": true
   },
   "outputs": [],
   "source": [
    "import os\n",
    "url = \"https://faculty.washington.edu/ivezic/macleod/qso_dr7/QSO_S82.tar.gz\"\n",
    "fpath = os.path.join(os.getcwd(), \"QSO_S82.tar.gz\")\n",
    "if not os.path.exists(fpath):\n",
    "    os.system(f'wget {url}')  "
   ]
  },
  {
   "cell_type": "code",
   "execution_count": null,
   "id": "0ace56bb",
   "metadata": {
    "scrolled": true
   },
   "outputs": [],
   "source": [
    "! tar xzf QSO_S82.tar.gz"
   ]
  },
  {
   "cell_type": "markdown",
   "id": "8e9d808b",
   "metadata": {},
   "source": [
    "We confirm that all light curves are  there by testing that the number of files in the directory equals to the expected number of quasars:"
   ]
  },
  {
   "cell_type": "code",
   "execution_count": 4,
   "id": "fa7672d6",
   "metadata": {},
   "outputs": [],
   "source": [
    "assert len(os.listdir(\"QSO_S82\")) == 9258"
   ]
  },
  {
   "cell_type": "markdown",
   "id": "116c7f88",
   "metadata": {},
   "source": [
    "# Get PS1 QSO data"
   ]
  },
  {
   "cell_type": "markdown",
   "id": "17e6696a",
   "metadata": {},
   "source": [
    "One way is to query the user interface of the MAST archive given the ra,dec positions of  changing-look quasar  candidates. This is a subset of the 9258 quasars above, selected given their variability properties as described in Suberlak+2021. The table of candidates can be downloaded from https://iopscience.iop.org/0004-637X/907/2/96/suppdata/apjabc698t5_ascii.txt?doi=10.3847/1538-4357/abc698. I copy-paste the text into a text file (in the github repo) called \"CLQSO_candidates.txt\""
   ]
  },
  {
   "cell_type": "code",
   "execution_count": 1,
   "id": "353e5bfe",
   "metadata": {},
   "outputs": [],
   "source": [
    "from astropy.table import Table\n",
    "colnames = ['dbID', 'SDSSJID', 'ra', 'dec',\t'Redshift', 'log10_Lbol', 'log10_MBH', \n",
    "            'f_Edd','Delta(mag)',\n",
    "            'Delta(sigma_G)', 'MedianPS1']\n",
    "clqso = Table.read(\"CLQSO_candidates.txt\", format='ascii',\n",
    "                   names=colnames)"
   ]
  },
  {
   "cell_type": "code",
   "execution_count": 2,
   "id": "9e036730",
   "metadata": {},
   "outputs": [
    {
     "data": {
      "text/plain": [
       "40"
      ]
     },
     "execution_count": 2,
     "metadata": {},
     "output_type": "execute_result"
    }
   ],
   "source": [
    "len(clqso)"
   ]
  },
  {
   "cell_type": "markdown",
   "id": "f8fd9603",
   "metadata": {},
   "source": [
    "The MAST archive expects a csv file with the following structure:\n",
    "    \n",
    "    target     ra   dec \n",
    "    \n",
    "    \n"
   ]
  },
  {
   "cell_type": "code",
   "execution_count": 12,
   "id": "d4aa1bc8",
   "metadata": {},
   "outputs": [],
   "source": [
    "# so we make one :\n",
    "clqso[['SDSS_NAME','RA','DEC']].write('CLQSO_cans_ra_dec.csv', format='csv',\n",
    "                                names=('target','ra','dec'),\n",
    "                                overwrite=True)\n"
   ]
  },
  {
   "cell_type": "markdown",
   "id": "4f6ddfb2",
   "metadata": {},
   "source": [
    "On  https://catalogs.mast.stsci.edu/panstarrs/ we select  \"Crossmatch a List of Targets \" option. I save the table as CSV file CLQSO_candidates_PS1_DR2.csv:"
   ]
  },
  {
   "cell_type": "code",
   "execution_count": 13,
   "id": "19f218c9",
   "metadata": {},
   "outputs": [],
   "source": [
    "ps1 = Table.read('CLQSO_candidates_PS1_DR2.csv', format='csv')"
   ]
  },
  {
   "cell_type": "markdown",
   "id": "8fa69aa3",
   "metadata": {},
   "source": [
    "From https://outerspace.stsci.edu/display/PANSTARRS/PS1+Detection+table+fields I find that units of `psfFLux` are Janskys."
   ]
  },
  {
   "cell_type": "code",
   "execution_count": null,
   "id": "18a574a6",
   "metadata": {},
   "outputs": [],
   "source": [
    "import functions as func\n",
    "ps1['mag'] = func.flux2ab(ps1['psfFlux'])\n",
    "ps1['magerr'] = func.flux2absigma(ps1['psfFlux'], ps1['psfFluxErr'])"
   ]
  },
  {
   "cell_type": "markdown",
   "id": "2e6dcb4c",
   "metadata": {},
   "source": [
    "# Get ZTF QSO data "
   ]
  },
  {
   "cell_type": "markdown",
   "id": "ede0ae1b",
   "metadata": {},
   "source": [
    "The ZTF DR7 data https://www.ztf.caltech.edu/ztf-public-releases.html  can be downloaded using the `wget`-based function written by Paula Sanchez-Saez here https://github.com/LSST-sersag/dle/blob/main/activities/workshop/T2_Photometric_Reverberation_Mapping/Tutorial%202_PhotoRM_IJ.ipynb . I modify it to do just the downloading, because I prefer to read the files with astropy:"
   ]
  },
  {
   "cell_type": "code",
   "execution_count": null,
   "id": "17c00ca6",
   "metadata": {},
   "outputs": [],
   "source": [
    "# check whether a file already exists...\n",
    "dr_path = os.path.join(os.getcwd(), 'ZTFDR17')\n",
    "if not os.path.exists(dr_path):\n",
    "    os.makedirs(dr_path)\n",
    "for row in clqso:\n",
    "    sdss_name = row['SDSS_NAME']\n",
    "    jname = f'J{sdss_name}'\n",
    "    ra = row['RA']\n",
    "    dec = row['DEC']\n",
    "    for f in 'gri':\n",
    "        file_name = f'{jname}_ZTF_{f}.csv'\n",
    "        file_path = os.path.join(dr_path, file_name)\n",
    "        # only query if it doesn't \n",
    "        if not os.path.exists(file_path):\n",
    "            func.get_ZTF_DR_lc(name=jname, \n",
    "                          ra=ra, \n",
    "                          dec=dec, \n",
    "                          band=f, \n",
    "                          dr_path=dr_path)\n"
   ]
  }
 ],
 "metadata": {
  "kernelspec": {
   "display_name": "Python 3 (ipykernel)",
   "language": "python",
   "name": "python3"
  },
  "language_info": {
   "codemirror_mode": {
    "name": "ipython",
    "version": 3
   },
   "file_extension": ".py",
   "mimetype": "text/x-python",
   "name": "python",
   "nbconvert_exporter": "python",
   "pygments_lexer": "ipython3",
   "version": "3.8.5"
  }
 },
 "nbformat": 4,
 "nbformat_minor": 5
}
