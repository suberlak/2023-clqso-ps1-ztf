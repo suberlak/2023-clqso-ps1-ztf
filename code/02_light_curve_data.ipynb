{
 "cells": [
  {
   "cell_type": "markdown",
   "id": "95238194",
   "metadata": {},
   "source": [
    "# 02: Download lightcurve data "
   ]
  },
  {
   "cell_type": "markdown",
   "id": "0346d3ce",
   "metadata": {},
   "source": [
    "# Imports\n"
   ]
  },
  {
   "cell_type": "code",
   "execution_count": 1,
   "id": "fbcc491e",
   "metadata": {},
   "outputs": [],
   "source": [
    "import os\n",
    "from astropy.table import Table\n",
    "import functions as func\n",
    "from astroML.datasets import fetch_dr7_quasar\n",
    "from astropy.table import Table\n",
    "import matplotlib.pyplot as plt "
   ]
  },
  {
   "cell_type": "markdown",
   "id": "1b82a157",
   "metadata": {},
   "source": [
    "# Get SDSS QSO data "
   ]
  },
  {
   "cell_type": "markdown",
   "id": "511ab572",
   "metadata": {},
   "source": [
    "The data is located at https://faculty.washington.edu/ivezic/macleod/qso_dr7/Southern.html \n"
   ]
  },
  {
   "cell_type": "code",
   "execution_count": 1,
   "id": "9202194b",
   "metadata": {
    "scrolled": true
   },
   "outputs": [],
   "source": [
    "url = \"https://faculty.washington.edu/ivezic/macleod/qso_dr7/QSO_S82.tar.gz\"\n",
    "fpath = os.path.join(os.getcwd(), \"QSO_S82.tar.gz\")\n",
    "if not os.path.exists(fpath):\n",
    "    os.system(f'wget {url}')  "
   ]
  },
  {
   "cell_type": "code",
   "execution_count": null,
   "id": "0ace56bb",
   "metadata": {
    "scrolled": true
   },
   "outputs": [],
   "source": [
    "! tar xzf QSO_S82.tar.gz"
   ]
  },
  {
   "cell_type": "markdown",
   "id": "8e9d808b",
   "metadata": {},
   "source": [
    "We confirm that all light curves are  there by testing that the number of files in the directory equals to the expected number of quasars:"
   ]
  },
  {
   "cell_type": "code",
   "execution_count": 2,
   "id": "fa7672d6",
   "metadata": {},
   "outputs": [],
   "source": [
    "assert len(os.listdir(\"QSO_S82\")) == 9258"
   ]
  },
  {
   "cell_type": "markdown",
   "id": "116c7f88",
   "metadata": {},
   "source": [
    "# Get PS1 QSO data: CLQSO candidates"
   ]
  },
  {
   "cell_type": "markdown",
   "id": "17e6696a",
   "metadata": {},
   "source": [
    "One way is to query the user interface of the MAST archive given the ra,dec positions of  changing-look quasar  candidates. This is a subset of the 9258 quasars above, selected given their variability properties as described in Suberlak+2021. The table of candidates can be downloaded from https://iopscience.iop.org/0004-637X/907/2/96/suppdata/apjabc698t5_ascii.txt?doi=10.3847/1538-4357/abc698. I copy-paste the text into a text file (in the github repo) called \"CLQSO_candidates.txt\""
   ]
  },
  {
   "cell_type": "code",
   "execution_count": 7,
   "id": "353e5bfe",
   "metadata": {},
   "outputs": [],
   "source": [
    "colnames = ['dbID', 'SDSSJID', 'ra', 'dec',\t'Redshift', 'log10_Lbol', 'log10_MBH', \n",
    "            'f_Edd','Delta(mag)',\n",
    "            'Delta(sigma_G)', 'MedianPS1']\n",
    "clqso = Table.read(\"CLQSO_candidates.txt\", format='ascii',\n",
    "                   names=colnames)"
   ]
  },
  {
   "cell_type": "code",
   "execution_count": 8,
   "id": "9e036730",
   "metadata": {},
   "outputs": [
    {
     "data": {
      "text/plain": [
       "40"
      ]
     },
     "execution_count": 8,
     "metadata": {},
     "output_type": "execute_result"
    }
   ],
   "source": [
    "len(clqso)"
   ]
  },
  {
   "cell_type": "markdown",
   "id": "f8fd9603",
   "metadata": {},
   "source": [
    "The MAST archive expects a csv file with the following structure:\n",
    "    \n",
    "    target     ra   dec \n",
    "    \n",
    "    \n"
   ]
  },
  {
   "cell_type": "code",
   "execution_count": 12,
   "id": "d4aa1bc8",
   "metadata": {},
   "outputs": [],
   "source": [
    "# so we make one :\n",
    "clqso[['SDSS_NAME','RA','DEC']].write('CLQSO_cans_ra_dec.csv', format='csv',\n",
    "                                names=('target','ra','dec'),\n",
    "                                overwrite=True)\n"
   ]
  },
  {
   "cell_type": "markdown",
   "id": "4f6ddfb2",
   "metadata": {},
   "source": [
    "On  https://catalogs.mast.stsci.edu/panstarrs/ we select  \"Crossmatch a List of Targets \" option. I save the table as CSV file CLQSO_candidates_PS1_DR2.csv:"
   ]
  },
  {
   "cell_type": "code",
   "execution_count": 46,
   "id": "19f218c9",
   "metadata": {},
   "outputs": [],
   "source": [
    "ps1 = Table.read('CLQSO_candidates_PS1_DR2.csv', format='csv')"
   ]
  },
  {
   "cell_type": "markdown",
   "id": "8fa69aa3",
   "metadata": {},
   "source": [
    "From https://outerspace.stsci.edu/display/PANSTARRS/PS1+Detection+table+fields I find that units of `psfFLux` are Janskys."
   ]
  },
  {
   "cell_type": "code",
   "execution_count": 47,
   "id": "18a574a6",
   "metadata": {},
   "outputs": [
    {
     "name": "stderr",
     "output_type": "stream",
     "text": [
      "/Users/chris/GradResearch/2023-clqso-ps1-ztf/code/functions.py:391: RuntimeWarning: divide by zero encountered in log10\n",
      "  return -2.5 * np.log10(flux) + 8.90\n",
      "/Users/chris/GradResearch/2023-clqso-ps1-ztf/code/functions.py:391: RuntimeWarning: invalid value encountered in log10\n",
      "  return -2.5 * np.log10(flux) + 8.90\n",
      "/Users/chris/GradResearch/2023-clqso-ps1-ztf/code/functions.py:380: RuntimeWarning: divide by zero encountered in true_divide\n",
      "  return FIVE_OVER_2LOG10 * fluxsigma / flux\n"
     ]
    }
   ],
   "source": [
    "ps1['mag'] = func.flux2ab(ps1['psfFlux'])\n",
    "ps1['magerr'] = func.flux2absigma(ps1['psfFlux'], ps1['psfFluxErr'])"
   ]
  },
  {
   "cell_type": "markdown",
   "id": "bc57865e",
   "metadata": {},
   "source": [
    "# Get PS1 QSO data:  a subset of SDSS S82 "
   ]
  },
  {
   "cell_type": "markdown",
   "id": "26c6d3d4",
   "metadata": {},
   "source": [
    "Obtain the master catalog describing the SDSS S82 "
   ]
  },
  {
   "cell_type": "code",
   "execution_count": 2,
   "id": "6acb201a",
   "metadata": {},
   "outputs": [],
   "source": [
    "path = os.getcwd()\n",
    "file_path = os.path.join(path, \"DB_QSO_S82.dat.gz\")\n",
    "if not os.path.exists(file_path):\n",
    "    # Get the quasar catalog - it gets saved in the same directory as the notebook \n",
    "    url = \"https://faculty.washington.edu/ivezic/macleod/qso_dr7/DB_QSO_S82.dat.gz\"\n",
    "    os.system(f'wget {url}')   "
   ]
  },
  {
   "cell_type": "code",
   "execution_count": 3,
   "id": "a2196bd9",
   "metadata": {},
   "outputs": [],
   "source": [
    "file_path = os.path.join(path, \"DB_QSO_S82.dat.gz\")\n",
    "\n",
    "# we know the column meaning from\n",
    "# https://faculty.washington.edu/ivezic/macleod/qso_dr7/Southern_format_DB.html\n",
    "colnames = [\"dbID\",\"ra\",\"dec\",\"SDR5ID\",\"M_i\",\"M_i_corr\",\n",
    "\"redshift\",\"mass_BH\",\"Lbol\",\"u\",\"g\",\"r\",\"i\",\"z\",\"Au\",]\n",
    "SDSS_DR7_S82 = Table.read(file_path, format=\"ascii\", names=colnames)\n"
   ]
  },
  {
   "cell_type": "markdown",
   "id": "2070de5d",
   "metadata": {},
   "source": [
    "This is a subset of what could be obtained from astroML: "
   ]
  },
  {
   "cell_type": "code",
   "execution_count": 4,
   "id": "d5675a25",
   "metadata": {},
   "outputs": [],
   "source": [
    "\n",
    "SDSS_DR7 = Table(fetch_dr7_quasar())\n",
    "SDSS_DR7.rename_column('RA', 'ra')"
   ]
  },
  {
   "cell_type": "markdown",
   "id": "d348f31b",
   "metadata": {},
   "source": [
    "Plot both the entire DR7 quasar database, and the Stripe82 subset:"
   ]
  },
  {
   "cell_type": "code",
   "execution_count": 82,
   "id": "6c43e571",
   "metadata": {},
   "outputs": [
    {
     "data": {
      "text/plain": [
       "Text(0.5, 1.0, 'SDSS DR7 Quasar Database')"
      ]
     },
     "execution_count": 82,
     "metadata": {},
     "output_type": "execute_result"
    },
    {
     "data": {
      "image/png": "[encoded data removed]",
      "text/plain": [
       "<Figure size 720x504 with 1 Axes>"
      ]
     },
     "metadata": {
      "needs_background": "light"
     },
     "output_type": "display_data"
    }
   ],
   "source": [
    "fig,ax = plt.subplots(1,1,figsize=(10,7))\n",
    "ax.scatter(SDSS_DR7['ra'],  SDSS_DR7['dec'], label='SDSS DR7')\n",
    "ax.scatter(SDSS_DR7_S82['ra'], SDSS_DR7_S82['dec'] , label = 'SDSS DR7 Stripe 82')\n",
    "ax.grid()\n",
    "ax.legend()\n",
    "ax.set_xlabel('RA [deg]')\n",
    "ax.set_ylabel('DEC [deg]')\n",
    "ax.set_title('SDSS DR7 Quasar Database')"
   ]
  },
  {
   "cell_type": "markdown",
   "id": "7ea88be8",
   "metadata": {},
   "source": [
    "Create a list of 10 brightest objects:\n"
   ]
  },
  {
   "cell_type": "code",
   "execution_count": 5,
   "id": "3f2b469e",
   "metadata": {},
   "outputs": [],
   "source": [
    "SDSS_DR7_S82.sort('g',reverse=False)\n",
    "m = SDSS_DR7_S82['g'] > 0\n",
    "qso_select = SDSS_DR7_S82[m][:10]"
   ]
  },
  {
   "cell_type": "markdown",
   "id": "63a47c90",
   "metadata": {},
   "source": [
    "Now identically to the above,  create a csv file with a format\n",
    "\n",
    "    target   ra  dec  \n",
    "    \n",
    "that could be used to query PS1.  We can keep the dbId as the identifier, since in this case that's what we can use to find the appropriate SDSS light curve."
   ]
  },
  {
   "cell_type": "code",
   "execution_count": 6,
   "id": "9bf70ab7",
   "metadata": {},
   "outputs": [],
   "source": [
    "qso_ps1 =  qso_select[['dbID', 'ra','dec']]\n",
    "qso_ps1.rename_column('dbID', 'target')\n",
    "qso_ps1.write('ps1_top_10_brightest_S82.csv', format=\n",
    "             'csv', overwrite=True)"
   ]
  },
  {
   "cell_type": "markdown",
   "id": "54ca9f13",
   "metadata": {},
   "source": [
    "Another way (that allows to more quickly save  the PS1 light curves) is to  submit queries directly https://catalogs.mast.stsci.edu/docs/panstarrs.html :"
   ]
  },
  {
   "cell_type": "code",
   "execution_count": 105,
   "id": "460f5124",
   "metadata": {},
   "outputs": [],
   "source": [
    "def get_PS1_lc(target, ra,dec, dr_path):\n",
    "    radius = 3/3600. # 3 asec in degrees ; the default  \n",
    "    pagesize = 5000 # default max length of LC \n",
    "    fname = f\"{target}_PS1_DR2_detection.csv\"\n",
    "    file_path = os.path.join(dr_path, fname)\n",
    "    if os.path.exists(file_path):\n",
    "        print(f\"File {file_path} already exists\")\n",
    "    else:\n",
    "        ps1_url = \"https://catalogs.mast.stsci.edu/api/v0.1/panstarrs/dr2/detection.csv?\"\n",
    "        query_url = f\"{ps1_url}ra={ra}&dec={dec}&radius={radius}&pagesize={pagesize}\"\n",
    "        cmd = f\"wget -O {file_path} \" + f'\"{query_url}\"'\n",
    "        print(cmd)\n",
    "        os.system(cmd)\n",
    "        "
   ]
  },
  {
   "cell_type": "markdown",
   "id": "cad084f1",
   "metadata": {},
   "source": [
    "The cell below executes the query using the new API for these targets and saves them in a `PS1_DR2_detection` sub-directory:"
   ]
  },
  {
   "cell_type": "code",
   "execution_count": null,
   "id": "8498b071",
   "metadata": {},
   "outputs": [],
   "source": [
    "dr_path = os.path.join(os.getcwd(), 'PS1_DR2_detection')\n",
    "if not os.path.exists(dr_path):\n",
    "    os.makedirs(dr_path)\n",
    "    \n",
    "for row in qso_ps1:\n",
    "    target = row['target']\n",
    "    ra = row['ra']\n",
    "    dec = row['dec']\n",
    "    get_PS1_lc(target, ra,dec, dr_path)"
   ]
  },
  {
   "cell_type": "markdown",
   "id": "2e6dcb4c",
   "metadata": {},
   "source": [
    "# Get ZTF QSO data "
   ]
  },
  {
   "cell_type": "markdown",
   "id": "669ad667",
   "metadata": {},
   "source": [
    "## For CLQSO candidates"
   ]
  },
  {
   "cell_type": "markdown",
   "id": "ede0ae1b",
   "metadata": {},
   "source": [
    "The ZTF DR7 data https://www.ztf.caltech.edu/ztf-public-releases.html  can be downloaded using the `wget`-based function written by Paula Sanchez-Saez here https://github.com/LSST-sersag/dle/blob/main/activities/workshop/T2_Photometric_Reverberation_Mapping/Tutorial%202_PhotoRM_IJ.ipynb . I modify it to do just the downloading, because I prefer to read the files with astropy. As of 4/5/2024, the most recent is DR20.  \n",
    "A slight modification - instead of assuming a filename based on SDSS \"jname\",  use the name provided to the function. "
   ]
  },
  {
   "cell_type": "code",
   "execution_count": 1,
   "id": "2e0d8226",
   "metadata": {},
   "outputs": [],
   "source": [
    "colnames = ['dbID', 'SDSSJID', 'ra', 'dec',\t'Redshift', 'log10_Lbol', 'log10_MBH', \n",
    "            'f_Edd','Delta(mag)',\n",
    "            'Delta(sigma_G)', 'MedianPS1']\n",
    "# can read that if we're only downloading ZTF data...\n",
    "clqso = Table.read(\"CLQSO_candidates.txt\", format='ascii',\n",
    "                   names=colnames)"
   ]
  },
  {
   "cell_type": "code",
   "execution_count": null,
   "id": "17c00ca6",
   "metadata": {},
   "outputs": [],
   "source": [
    "# check whether a file already exists...\n",
    "dr_path = os.path.join(os.getcwd(), 'ZTFDR21')\n",
    "if not os.path.exists(dr_path):\n",
    "    os.makedirs(dr_path)\n",
    "for row in qso_select:\n",
    "    sdss_name = row['SDSSJID']\n",
    "    jname = f'J{sdss_name}'\n",
    "    ra = row['ra']\n",
    "    dec = row['dec']\n",
    "    for f in 'gri':\n",
    "        file_name = f'{jname}_ZTF_{f}.csv'\n",
    "        file_path = os.path.join(dr_path, file_name)\n",
    "        # only query if it doesn't \n",
    "        if not os.path.exists(file_path):\n",
    "            func.get_ZTF_lc(fname=file_name, \n",
    "                          ra=ra, \n",
    "                          dec=dec, \n",
    "                          band=f, \n",
    "                          dr_path=dr_path)\n"
   ]
  },
  {
   "cell_type": "markdown",
   "id": "d4f28edf",
   "metadata": {},
   "source": [
    "## For another subset of SDSS DR7 S82 (using dbID as fname)"
   ]
  },
  {
   "cell_type": "code",
   "execution_count": 9,
   "id": "a4b4a067",
   "metadata": {},
   "outputs": [],
   "source": [
    "import importlib as imp"
   ]
  },
  {
   "cell_type": "code",
   "execution_count": 10,
   "id": "24b4f1f0",
   "metadata": {},
   "outputs": [
    {
     "data": {
      "text/plain": [
       "<module 'functions' from '/Users/chris/GradResearch/2023-clqso-ps1-ztf/code/functions.py'>"
      ]
     },
     "execution_count": 10,
     "metadata": {},
     "output_type": "execute_result"
    }
   ],
   "source": [
    "imp.reload(func)"
   ]
  },
  {
   "cell_type": "code",
   "execution_count": 11,
   "id": "91793c02",
   "metadata": {},
   "outputs": [
    {
     "name": "stdout",
     "output_type": "stream",
     "text": [
      "wget -O /Users/chris/GradResearch/2023-clqso-ps1-ztf/code/ZTFDR21/1992659_ZTF_g.csv \"https://irsa.ipac.caltech.edu/cgi-bin/ZTF/nph_light_curves?POS=CIRCLE 39.845314 -0.022107 0.000277778&BANDNAME=g&FORMAT=csv&NOBS_MIN=3\"\n"
     ]
    },
    {
     "name": "stderr",
     "output_type": "stream",
     "text": [
      "--2024-06-16 21:52:34--  https://irsa.ipac.caltech.edu/cgi-bin/ZTF/nph_light_curves?POS=CIRCLE%2039.845314%20-0.022107%200.000277778&BANDNAME=g&FORMAT=csv&NOBS_MIN=3\n",
      "Resolving irsa.ipac.caltech.edu... 134.4.54.87\n",
      "Connecting to irsa.ipac.caltech.edu|134.4.54.87|:443... connected.\n",
      "HTTP request sent, awaiting response... 200 OK\n",
      "Length: unspecified [text/csv]\n",
      "Saving to: '/Users/chris/GradResearch/2023-clqso-ps1-ztf/code/ZTFDR21/1992659_ZTF_g.csv'\n",
      "\n",
      "     0K .......... .......... .......... .......... ..........  422K\n",
      "    50K .......... .......... .......... .......... ..........  337K\n",
      "   100K ......                                                 16.5M=0.3s\n",
      "\n",
      "2024-06-16 21:52:36 (398 KB/s) - '/Users/chris/GradResearch/2023-clqso-ps1-ztf/code/ZTFDR21/1992659_ZTF_g.csv' saved [109008]\n",
      "\n",
      "--2024-06-16 21:52:37--  https://irsa.ipac.caltech.edu/cgi-bin/ZTF/nph_light_curves?POS=CIRCLE%2039.845314%20-0.022107%200.000277778&BANDNAME=r&FORMAT=csv&NOBS_MIN=3\n",
      "Resolving irsa.ipac.caltech.edu... 134.4.54.87\n",
      "Connecting to irsa.ipac.caltech.edu|134.4.54.87|:443... connected.\n"
     ]
    },
    {
     "name": "stdout",
     "output_type": "stream",
     "text": [
      "wget -O /Users/chris/GradResearch/2023-clqso-ps1-ztf/code/ZTFDR21/1992659_ZTF_r.csv \"https://irsa.ipac.caltech.edu/cgi-bin/ZTF/nph_light_curves?POS=CIRCLE 39.845314 -0.022107 0.000277778&BANDNAME=r&FORMAT=csv&NOBS_MIN=3\"\n"
     ]
    },
    {
     "name": "stderr",
     "output_type": "stream",
     "text": [
      "HTTP request sent, awaiting response... 200 OK\n",
      "Length: unspecified [text/csv]\n",
      "Saving to: '/Users/chris/GradResearch/2023-clqso-ps1-ztf/code/ZTFDR21/1992659_ZTF_r.csv'\n",
      "\n",
      "     0K .......... .......... .......... .......... ..........  415K\n",
      "    50K .......... .......... .......... .......... ..........  346K\n",
      "   100K .......... ....                                         407K=0.3s\n",
      "\n",
      "2024-06-16 21:52:40 (381 KB/s) - '/Users/chris/GradResearch/2023-clqso-ps1-ztf/code/ZTFDR21/1992659_ZTF_r.csv' saved [117087]\n",
      "\n",
      "--2024-06-16 21:52:40--  https://irsa.ipac.caltech.edu/cgi-bin/ZTF/nph_light_curves?POS=CIRCLE%2039.845314%20-0.022107%200.000277778&BANDNAME=i&FORMAT=csv&NOBS_MIN=3\n",
      "Resolving irsa.ipac.caltech.edu... 134.4.54.87\n",
      "Connecting to irsa.ipac.caltech.edu|134.4.54.87|:443... connected.\n"
     ]
    },
    {
     "name": "stdout",
     "output_type": "stream",
     "text": [
      "wget -O /Users/chris/GradResearch/2023-clqso-ps1-ztf/code/ZTFDR21/1992659_ZTF_i.csv \"https://irsa.ipac.caltech.edu/cgi-bin/ZTF/nph_light_curves?POS=CIRCLE 39.845314 -0.022107 0.000277778&BANDNAME=i&FORMAT=csv&NOBS_MIN=3\"\n"
     ]
    },
    {
     "name": "stderr",
     "output_type": "stream",
     "text": [
      "HTTP request sent, awaiting response... 200 OK\n",
      "Length: unspecified [text/csv]\n",
      "Saving to: '/Users/chris/GradResearch/2023-clqso-ps1-ztf/code/ZTFDR21/1992659_ZTF_i.csv'\n",
      "\n",
      "     0K .......... .......... .                                 484K=0.04s\n",
      "\n",
      "2024-06-16 21:52:42 (484 KB/s) - '/Users/chris/GradResearch/2023-clqso-ps1-ztf/code/ZTFDR21/1992659_ZTF_i.csv' saved [22244]\n",
      "\n",
      "--2024-06-16 21:52:42--  https://irsa.ipac.caltech.edu/cgi-bin/ZTF/nph_light_curves?POS=CIRCLE%20357.983826%20-1.153706%200.000277778&BANDNAME=g&FORMAT=csv&NOBS_MIN=3\n",
      "Resolving irsa.ipac.caltech.edu... 134.4.54.87\n",
      "Connecting to irsa.ipac.caltech.edu|134.4.54.87|:443... connected.\n"
     ]
    },
    {
     "name": "stdout",
     "output_type": "stream",
     "text": [
      "wget -O /Users/chris/GradResearch/2023-clqso-ps1-ztf/code/ZTFDR21/3977727_ZTF_g.csv \"https://irsa.ipac.caltech.edu/cgi-bin/ZTF/nph_light_curves?POS=CIRCLE 357.983826 -1.153706 0.000277778&BANDNAME=g&FORMAT=csv&NOBS_MIN=3\"\n"
     ]
    },
    {
     "name": "stderr",
     "output_type": "stream",
     "text": [
      "HTTP request sent, awaiting response... 200 OK\n",
      "Length: unspecified [text/csv]\n",
      "Saving to: '/Users/chris/GradResearch/2023-clqso-ps1-ztf/code/ZTFDR21/3977727_ZTF_g.csv'\n",
      "\n",
      "     0K .......... .......... .......... .......... ..........  432K\n",
      "    50K .......... .......... .......... .......... .           386K=0.2s\n",
      "\n",
      "2024-06-16 21:52:46 (410 KB/s) - '/Users/chris/GradResearch/2023-clqso-ps1-ztf/code/ZTFDR21/3977727_ZTF_g.csv' saved [93315]\n",
      "\n",
      "--2024-06-16 21:52:46--  https://irsa.ipac.caltech.edu/cgi-bin/ZTF/nph_light_curves?POS=CIRCLE%20357.983826%20-1.153706%200.000277778&BANDNAME=r&FORMAT=csv&NOBS_MIN=3\n",
      "Resolving irsa.ipac.caltech.edu... 134.4.54.87\n",
      "Connecting to irsa.ipac.caltech.edu|134.4.54.87|:443... connected.\n",
      "HTTP request sent, awaiting response... "
     ]
    },
    {
     "name": "stdout",
     "output_type": "stream",
     "text": [
      "wget -O /Users/chris/GradResearch/2023-clqso-ps1-ztf/code/ZTFDR21/3977727_ZTF_r.csv \"https://irsa.ipac.caltech.edu/cgi-bin/ZTF/nph_light_curves?POS=CIRCLE 357.983826 -1.153706 0.000277778&BANDNAME=r&FORMAT=csv&NOBS_MIN=3\"\n"
     ]
    },
    {
     "name": "stderr",
     "output_type": "stream",
     "text": [
      "200 OK\n",
      "Length: unspecified [text/csv]\n",
      "Saving to: '/Users/chris/GradResearch/2023-clqso-ps1-ztf/code/ZTFDR21/3977727_ZTF_r.csv'\n",
      "\n",
      "     0K .......... .......... .......... .......... ..........  432K\n",
      "    50K .......... .......... .......... .......... .....       403K=0.2s\n",
      "\n",
      "2024-06-16 21:52:48 (418 KB/s) - '/Users/chris/GradResearch/2023-clqso-ps1-ztf/code/ZTFDR21/3977727_ZTF_r.csv' saved [97511]\n",
      "\n",
      "--2024-06-16 21:52:48--  https://irsa.ipac.caltech.edu/cgi-bin/ZTF/nph_light_curves?POS=CIRCLE%20357.983826%20-1.153706%200.000277778&BANDNAME=i&FORMAT=csv&NOBS_MIN=3\n",
      "Resolving irsa.ipac.caltech.edu... 134.4.54.87\n",
      "Connecting to irsa.ipac.caltech.edu|134.4.54.87|:443... connected.\n",
      "HTTP request sent, awaiting response... "
     ]
    },
    {
     "name": "stdout",
     "output_type": "stream",
     "text": [
      "wget -O /Users/chris/GradResearch/2023-clqso-ps1-ztf/code/ZTFDR21/3977727_ZTF_i.csv \"https://irsa.ipac.caltech.edu/cgi-bin/ZTF/nph_light_curves?POS=CIRCLE 357.983826 -1.153706 0.000277778&BANDNAME=i&FORMAT=csv&NOBS_MIN=3\"\n"
     ]
    },
    {
     "name": "stderr",
     "output_type": "stream",
     "text": [
      "200 OK\n",
      "Length: unspecified [text/csv]\n",
      "Saving to: '/Users/chris/GradResearch/2023-clqso-ps1-ztf/code/ZTFDR21/3977727_ZTF_i.csv'\n",
      "\n",
      "     0K .......... .......... ..                                498K=0.05s\n",
      "\n",
      "2024-06-16 21:52:50 (498 KB/s) - '/Users/chris/GradResearch/2023-clqso-ps1-ztf/code/ZTFDR21/3977727_ZTF_i.csv' saved [23115]\n",
      "\n",
      "--2024-06-16 21:52:50--  https://irsa.ipac.caltech.edu/cgi-bin/ZTF/nph_light_curves?POS=CIRCLE%2047.615932%20-0.830766%200.000277778&BANDNAME=g&FORMAT=csv&NOBS_MIN=3\n",
      "Resolving irsa.ipac.caltech.edu... 134.4.54.87\n",
      "Connecting to irsa.ipac.caltech.edu|134.4.54.87|:443... connected.\n"
     ]
    },
    {
     "name": "stdout",
     "output_type": "stream",
     "text": [
      "wget -O /Users/chris/GradResearch/2023-clqso-ps1-ztf/code/ZTFDR21/3087679_ZTF_g.csv \"https://irsa.ipac.caltech.edu/cgi-bin/ZTF/nph_light_curves?POS=CIRCLE 47.615932 -0.830766 0.000277778&BANDNAME=g&FORMAT=csv&NOBS_MIN=3\"\n"
     ]
    },
    {
     "name": "stderr",
     "output_type": "stream",
     "text": [
      "HTTP request sent, awaiting response... 200 OK\n",
      "Length: unspecified [text/csv]\n",
      "Saving to: '/Users/chris/GradResearch/2023-clqso-ps1-ztf/code/ZTFDR21/3087679_ZTF_g.csv'\n",
      "\n",
      "     0K .......... .                                           29.2M=0s\n",
      "\n",
      "2024-06-16 21:52:53 (29.2 MB/s) - '/Users/chris/GradResearch/2023-clqso-ps1-ztf/code/ZTFDR21/3087679_ZTF_g.csv' saved [11511]\n",
      "\n",
      "--2024-06-16 21:52:53--  https://irsa.ipac.caltech.edu/cgi-bin/ZTF/nph_light_curves?POS=CIRCLE%2047.615932%20-0.830766%200.000277778&BANDNAME=r&FORMAT=csv&NOBS_MIN=3\n",
      "Resolving irsa.ipac.caltech.edu... 134.4.54.87\n",
      "Connecting to irsa.ipac.caltech.edu|134.4.54.87|:443... connected.\n"
     ]
    },
    {
     "name": "stdout",
     "output_type": "stream",
     "text": [
      "wget -O /Users/chris/GradResearch/2023-clqso-ps1-ztf/code/ZTFDR21/3087679_ZTF_r.csv \"https://irsa.ipac.caltech.edu/cgi-bin/ZTF/nph_light_curves?POS=CIRCLE 47.615932 -0.830766 0.000277778&BANDNAME=r&FORMAT=csv&NOBS_MIN=3\"\n"
     ]
    },
    {
     "name": "stderr",
     "output_type": "stream",
     "text": [
      "HTTP request sent, awaiting response... 200 OK\n",
      "Length: unspecified [text/csv]\n",
      "Saving to: '/Users/chris/GradResearch/2023-clqso-ps1-ztf/code/ZTFDR21/3087679_ZTF_r.csv'\n",
      "\n",
      "     0K                                                        2.86M=0s\n",
      "\n",
      "2024-06-16 21:52:56 (2.86 MB/s) - '/Users/chris/GradResearch/2023-clqso-ps1-ztf/code/ZTFDR21/3087679_ZTF_r.csv' saved [162]\n",
      "\n",
      "--2024-06-16 21:52:56--  https://irsa.ipac.caltech.edu/cgi-bin/ZTF/nph_light_curves?POS=CIRCLE%2047.615932%20-0.830766%200.000277778&BANDNAME=i&FORMAT=csv&NOBS_MIN=3\n",
      "Resolving irsa.ipac.caltech.edu... 134.4.54.87\n",
      "Connecting to irsa.ipac.caltech.edu|134.4.54.87|:443... connected.\n"
     ]
    },
    {
     "name": "stdout",
     "output_type": "stream",
     "text": [
      "wget -O /Users/chris/GradResearch/2023-clqso-ps1-ztf/code/ZTFDR21/3087679_ZTF_i.csv \"https://irsa.ipac.caltech.edu/cgi-bin/ZTF/nph_light_curves?POS=CIRCLE 47.615932 -0.830766 0.000277778&BANDNAME=i&FORMAT=csv&NOBS_MIN=3\"\n"
     ]
    },
    {
     "name": "stderr",
     "output_type": "stream",
     "text": [
      "HTTP request sent, awaiting response... 200 OK\n",
      "Length: unspecified [text/csv]\n",
      "Saving to: '/Users/chris/GradResearch/2023-clqso-ps1-ztf/code/ZTFDR21/3087679_ZTF_i.csv'\n",
      "\n",
      "     0K                                                        1.78M=0s\n",
      "\n",
      "2024-06-16 21:52:59 (1.78 MB/s) - '/Users/chris/GradResearch/2023-clqso-ps1-ztf/code/ZTFDR21/3087679_ZTF_i.csv' saved [162]\n",
      "\n",
      "--2024-06-16 21:53:00--  https://irsa.ipac.caltech.edu/cgi-bin/ZTF/nph_light_curves?POS=CIRCLE%2015.60966%20-0.651279%200.000277778&BANDNAME=g&FORMAT=csv&NOBS_MIN=3\n",
      "Resolving irsa.ipac.caltech.edu... 134.4.54.87\n",
      "Connecting to irsa.ipac.caltech.edu|134.4.54.87|:443... connected.\n",
      "HTTP request sent, awaiting response... "
     ]
    },
    {
     "name": "stdout",
     "output_type": "stream",
     "text": [
      "wget -O /Users/chris/GradResearch/2023-clqso-ps1-ztf/code/ZTFDR21/604284_ZTF_g.csv \"https://irsa.ipac.caltech.edu/cgi-bin/ZTF/nph_light_curves?POS=CIRCLE 15.60966 -0.651279 0.000277778&BANDNAME=g&FORMAT=csv&NOBS_MIN=3\"\n"
     ]
    },
    {
     "name": "stderr",
     "output_type": "stream",
     "text": [
      "200 OK\n",
      "Length: unspecified [text/csv]\n",
      "Saving to: '/Users/chris/GradResearch/2023-clqso-ps1-ztf/code/ZTFDR21/604284_ZTF_g.csv'\n",
      "\n",
      "     0K .......... .......... .......                           615K=0.04s\n",
      "\n",
      "2024-06-16 21:53:01 (615 KB/s) - '/Users/chris/GradResearch/2023-clqso-ps1-ztf/code/ZTFDR21/604284_ZTF_g.csv' saved [27697]\n",
      "\n",
      "--2024-06-16 21:53:01--  https://irsa.ipac.caltech.edu/cgi-bin/ZTF/nph_light_curves?POS=CIRCLE%2015.60966%20-0.651279%200.000277778&BANDNAME=r&FORMAT=csv&NOBS_MIN=3\n",
      "Resolving irsa.ipac.caltech.edu... 134.4.54.87\n",
      "Connecting to irsa.ipac.caltech.edu|134.4.54.87|:443... connected.\n"
     ]
    },
    {
     "name": "stdout",
     "output_type": "stream",
     "text": [
      "wget -O /Users/chris/GradResearch/2023-clqso-ps1-ztf/code/ZTFDR21/604284_ZTF_r.csv \"https://irsa.ipac.caltech.edu/cgi-bin/ZTF/nph_light_curves?POS=CIRCLE 15.60966 -0.651279 0.000277778&BANDNAME=r&FORMAT=csv&NOBS_MIN=3\"\n"
     ]
    },
    {
     "name": "stderr",
     "output_type": "stream",
     "text": [
      "HTTP request sent, awaiting response... 200 OK\n",
      "Length: unspecified [text/csv]\n",
      "Saving to: '/Users/chris/GradResearch/2023-clqso-ps1-ztf/code/ZTFDR21/604284_ZTF_r.csv'\n",
      "\n",
      "     0K .......... .......... .......                           362K=0.08s\n",
      "\n",
      "2024-06-16 21:53:06 (362 KB/s) - '/Users/chris/GradResearch/2023-clqso-ps1-ztf/code/ZTFDR21/604284_ZTF_r.csv' saved [28270]\n",
      "\n",
      "--2024-06-16 21:53:06--  https://irsa.ipac.caltech.edu/cgi-bin/ZTF/nph_light_curves?POS=CIRCLE%2015.60966%20-0.651279%200.000277778&BANDNAME=i&FORMAT=csv&NOBS_MIN=3\n",
      "Resolving irsa.ipac.caltech.edu... 134.4.54.87\n",
      "Connecting to irsa.ipac.caltech.edu|134.4.54.87|:443... connected.\n"
     ]
    },
    {
     "name": "stdout",
     "output_type": "stream",
     "text": [
      "wget -O /Users/chris/GradResearch/2023-clqso-ps1-ztf/code/ZTFDR21/604284_ZTF_i.csv \"https://irsa.ipac.caltech.edu/cgi-bin/ZTF/nph_light_curves?POS=CIRCLE 15.60966 -0.651279 0.000277778&BANDNAME=i&FORMAT=csv&NOBS_MIN=3\"\n"
     ]
    },
    {
     "name": "stderr",
     "output_type": "stream",
     "text": [
      "HTTP request sent, awaiting response... 200 OK\n",
      "Length: unspecified [text/csv]\n",
      "Saving to: '/Users/chris/GradResearch/2023-clqso-ps1-ztf/code/ZTFDR21/604284_ZTF_i.csv'\n",
      "\n",
      "     0K                                                        3.51M=0s\n",
      "\n",
      "2024-06-16 21:53:08 (3.51 MB/s) - '/Users/chris/GradResearch/2023-clqso-ps1-ztf/code/ZTFDR21/604284_ZTF_i.csv' saved [162]\n",
      "\n",
      "--2024-06-16 21:53:08--  https://irsa.ipac.caltech.edu/cgi-bin/ZTF/nph_light_curves?POS=CIRCLE%2027.427135%200.250477%200.000277778&BANDNAME=g&FORMAT=csv&NOBS_MIN=3\n",
      "Resolving irsa.ipac.caltech.edu... 134.4.54.87\n",
      "Connecting to irsa.ipac.caltech.edu|134.4.54.87|:443... connected.\n"
     ]
    },
    {
     "name": "stdout",
     "output_type": "stream",
     "text": [
      "wget -O /Users/chris/GradResearch/2023-clqso-ps1-ztf/code/ZTFDR21/1252652_ZTF_g.csv \"https://irsa.ipac.caltech.edu/cgi-bin/ZTF/nph_light_curves?POS=CIRCLE 27.427135 0.250477 0.000277778&BANDNAME=g&FORMAT=csv&NOBS_MIN=3\"\n"
     ]
    },
    {
     "name": "stderr",
     "output_type": "stream",
     "text": [
      "HTTP request sent, awaiting response... 200 OK\n",
      "Length: unspecified [text/csv]\n",
      "Saving to: '/Users/chris/GradResearch/2023-clqso-ps1-ztf/code/ZTFDR21/1252652_ZTF_g.csv'\n",
      "\n",
      "     0K .......... .......... .......... .......... ..........  377K\n",
      "    50K .......... .......... .......... .......... ..........  320K\n",
      "   100K .......                                                11.0M=0.3s\n",
      "\n",
      "2024-06-16 21:53:12 (370 KB/s) - '/Users/chris/GradResearch/2023-clqso-ps1-ztf/code/ZTFDR21/1252652_ZTF_g.csv' saved [109809]\n",
      "\n",
      "--2024-06-16 21:53:12--  https://irsa.ipac.caltech.edu/cgi-bin/ZTF/nph_light_curves?POS=CIRCLE%2027.427135%200.250477%200.000277778&BANDNAME=r&FORMAT=csv&NOBS_MIN=3\n",
      "Resolving irsa.ipac.caltech.edu... 134.4.54.87\n",
      "Connecting to irsa.ipac.caltech.edu|134.4.54.87|:443... connected.\n"
     ]
    },
    {
     "name": "stdout",
     "output_type": "stream",
     "text": [
      "wget -O /Users/chris/GradResearch/2023-clqso-ps1-ztf/code/ZTFDR21/1252652_ZTF_r.csv \"https://irsa.ipac.caltech.edu/cgi-bin/ZTF/nph_light_curves?POS=CIRCLE 27.427135 0.250477 0.000277778&BANDNAME=r&FORMAT=csv&NOBS_MIN=3\"\n"
     ]
    },
    {
     "name": "stderr",
     "output_type": "stream",
     "text": [
      "HTTP request sent, awaiting response... 200 OK\n",
      "Length: unspecified [text/csv]\n",
      "Saving to: '/Users/chris/GradResearch/2023-clqso-ps1-ztf/code/ZTFDR21/1252652_ZTF_r.csv'\n",
      "\n",
      "     0K .......... .......... .......... .......... ..........  433K\n",
      "    50K .......... .......... .......... .......... ..........  340K\n",
      "   100K .......... .....                                        489K=0.3s\n",
      "\n",
      "2024-06-16 21:53:15 (393 KB/s) - '/Users/chris/GradResearch/2023-clqso-ps1-ztf/code/ZTFDR21/1252652_ZTF_r.csv' saved [118705]\n",
      "\n",
      "--2024-06-16 21:53:15--  https://irsa.ipac.caltech.edu/cgi-bin/ZTF/nph_light_curves?POS=CIRCLE%2027.427135%200.250477%200.000277778&BANDNAME=i&FORMAT=csv&NOBS_MIN=3\n",
      "Resolving irsa.ipac.caltech.edu... 134.4.54.87\n",
      "Connecting to irsa.ipac.caltech.edu|134.4.54.87|:443... connected.\n"
     ]
    },
    {
     "name": "stdout",
     "output_type": "stream",
     "text": [
      "wget -O /Users/chris/GradResearch/2023-clqso-ps1-ztf/code/ZTFDR21/1252652_ZTF_i.csv \"https://irsa.ipac.caltech.edu/cgi-bin/ZTF/nph_light_curves?POS=CIRCLE 27.427135 0.250477 0.000277778&BANDNAME=i&FORMAT=csv&NOBS_MIN=3\"\n"
     ]
    },
    {
     "name": "stderr",
     "output_type": "stream",
     "text": [
      "HTTP request sent, awaiting response... 200 OK\n",
      "Length: unspecified [text/csv]\n",
      "Saving to: '/Users/chris/GradResearch/2023-clqso-ps1-ztf/code/ZTFDR21/1252652_ZTF_i.csv'\n",
      "\n",
      "     0K .......... ..........                                   526K=0.04s\n",
      "\n",
      "2024-06-16 21:53:18 (526 KB/s) - '/Users/chris/GradResearch/2023-clqso-ps1-ztf/code/ZTFDR21/1252652_ZTF_i.csv' saved [21031]\n",
      "\n",
      "--2024-06-16 21:53:18--  https://irsa.ipac.caltech.edu/cgi-bin/ZTF/nph_light_curves?POS=CIRCLE%2013.023189%200.593945%200.000277778&BANDNAME=g&FORMAT=csv&NOBS_MIN=3\n",
      "Resolving irsa.ipac.caltech.edu... 134.4.54.87\n",
      "Connecting to irsa.ipac.caltech.edu|134.4.54.87|:443... connected.\n"
     ]
    },
    {
     "name": "stdout",
     "output_type": "stream",
     "text": [
      "wget -O /Users/chris/GradResearch/2023-clqso-ps1-ztf/code/ZTFDR21/254227_ZTF_g.csv \"https://irsa.ipac.caltech.edu/cgi-bin/ZTF/nph_light_curves?POS=CIRCLE 13.023189 0.593945 0.000277778&BANDNAME=g&FORMAT=csv&NOBS_MIN=3\"\n"
     ]
    },
    {
     "name": "stderr",
     "output_type": "stream",
     "text": [
      "HTTP request sent, awaiting response... 200 OK\n",
      "Length: unspecified [text/csv]\n",
      "Saving to: '/Users/chris/GradResearch/2023-clqso-ps1-ztf/code/ZTFDR21/254227_ZTF_g.csv'\n",
      "\n",
      "     0K .......... .......... .......... .......... ..........  406K\n",
      "    50K .......... .......... .......... ......                 344K=0.2s\n",
      "\n",
      "2024-06-16 21:53:21 (377 KB/s) - '/Users/chris/GradResearch/2023-clqso-ps1-ztf/code/ZTFDR21/254227_ZTF_g.csv' saved [88535]\n",
      "\n",
      "--2024-06-16 21:53:21--  https://irsa.ipac.caltech.edu/cgi-bin/ZTF/nph_light_curves?POS=CIRCLE%2013.023189%200.593945%200.000277778&BANDNAME=r&FORMAT=csv&NOBS_MIN=3\n",
      "Resolving irsa.ipac.caltech.edu... 134.4.54.87\n",
      "Connecting to irsa.ipac.caltech.edu|134.4.54.87|:443... connected.\n"
     ]
    },
    {
     "name": "stdout",
     "output_type": "stream",
     "text": [
      "wget -O /Users/chris/GradResearch/2023-clqso-ps1-ztf/code/ZTFDR21/254227_ZTF_r.csv \"https://irsa.ipac.caltech.edu/cgi-bin/ZTF/nph_light_curves?POS=CIRCLE 13.023189 0.593945 0.000277778&BANDNAME=r&FORMAT=csv&NOBS_MIN=3\"\n"
     ]
    },
    {
     "name": "stderr",
     "output_type": "stream",
     "text": [
      "HTTP request sent, awaiting response... 200 OK\n",
      "Length: unspecified [text/csv]\n",
      "Saving to: '/Users/chris/GradResearch/2023-clqso-ps1-ztf/code/ZTFDR21/254227_ZTF_r.csv'\n",
      "\n",
      "     0K .......... .......... .......... .......... ..........  281K\n",
      "    50K .......... .......... .......... .......... ..........  239K\n",
      "   100K .........                                              19.5M=0.4s\n",
      "\n",
      "2024-06-16 21:53:24 (284 KB/s) - '/Users/chris/GradResearch/2023-clqso-ps1-ztf/code/ZTFDR21/254227_ZTF_r.csv' saved [112603]\n",
      "\n"
     ]
    },
    {
     "name": "stdout",
     "output_type": "stream",
     "text": [
      "wget -O /Users/chris/GradResearch/2023-clqso-ps1-ztf/code/ZTFDR21/254227_ZTF_i.csv \"https://irsa.ipac.caltech.edu/cgi-bin/ZTF/nph_light_curves?POS=CIRCLE 13.023189 0.593945 0.000277778&BANDNAME=i&FORMAT=csv&NOBS_MIN=3\"\n"
     ]
    },
    {
     "name": "stderr",
     "output_type": "stream",
     "text": [
      "--2024-06-16 21:53:24--  https://irsa.ipac.caltech.edu/cgi-bin/ZTF/nph_light_curves?POS=CIRCLE%2013.023189%200.593945%200.000277778&BANDNAME=i&FORMAT=csv&NOBS_MIN=3\n",
      "Resolving irsa.ipac.caltech.edu... 134.4.54.87\n",
      "Connecting to irsa.ipac.caltech.edu|134.4.54.87|:443... connected.\n",
      "HTTP request sent, awaiting response... 200 OK\n",
      "Length: unspecified [text/csv]\n",
      "Saving to: '/Users/chris/GradResearch/2023-clqso-ps1-ztf/code/ZTFDR21/254227_ZTF_i.csv'\n",
      "\n",
      "     0K .......... ..                                           313K=0.04s\n",
      "\n",
      "2024-06-16 21:53:26 (313 KB/s) - '/Users/chris/GradResearch/2023-clqso-ps1-ztf/code/ZTFDR21/254227_ZTF_i.csv' saved [12660]\n",
      "\n",
      "--2024-06-16 21:53:26--  https://irsa.ipac.caltech.edu/cgi-bin/ZTF/nph_light_curves?POS=CIRCLE%2044.906113%200.626771%200.000277778&BANDNAME=g&FORMAT=csv&NOBS_MIN=3\n",
      "Resolving irsa.ipac.caltech.edu... 134.4.54.87\n",
      "Connecting to irsa.ipac.caltech.edu|134.4.54.87|:443... connected.\n"
     ]
    },
    {
     "name": "stdout",
     "output_type": "stream",
     "text": [
      "wget -O /Users/chris/GradResearch/2023-clqso-ps1-ztf/code/ZTFDR21/2527410_ZTF_g.csv \"https://irsa.ipac.caltech.edu/cgi-bin/ZTF/nph_light_curves?POS=CIRCLE 44.906113 0.626771 0.000277778&BANDNAME=g&FORMAT=csv&NOBS_MIN=3\"\n"
     ]
    },
    {
     "name": "stderr",
     "output_type": "stream",
     "text": [
      "HTTP request sent, awaiting response... 200 OK\n",
      "Length: unspecified [text/csv]\n",
      "Saving to: '/Users/chris/GradResearch/2023-clqso-ps1-ztf/code/ZTFDR21/2527410_ZTF_g.csv'\n",
      "\n",
      "     0K .......... .......... .......... .......... ..........  205K\n",
      "    50K .......... .......... .......... .......... .......... 97.3K\n",
      "   100K ..........                                              277K=0.8s\n",
      "\n",
      "2024-06-16 21:53:30 (139 KB/s) - '/Users/chris/GradResearch/2023-clqso-ps1-ztf/code/ZTFDR21/2527410_ZTF_g.csv' saved [113353]\n",
      "\n",
      "--2024-06-16 21:53:31--  https://irsa.ipac.caltech.edu/cgi-bin/ZTF/nph_light_curves?POS=CIRCLE%2044.906113%200.626771%200.000277778&BANDNAME=r&FORMAT=csv&NOBS_MIN=3\n",
      "Resolving irsa.ipac.caltech.edu... 134.4.54.87\n",
      "Connecting to irsa.ipac.caltech.edu|134.4.54.87|:443... connected.\n"
     ]
    },
    {
     "name": "stdout",
     "output_type": "stream",
     "text": [
      "wget -O /Users/chris/GradResearch/2023-clqso-ps1-ztf/code/ZTFDR21/2527410_ZTF_r.csv \"https://irsa.ipac.caltech.edu/cgi-bin/ZTF/nph_light_curves?POS=CIRCLE 44.906113 0.626771 0.000277778&BANDNAME=r&FORMAT=csv&NOBS_MIN=3\"\n"
     ]
    },
    {
     "name": "stderr",
     "output_type": "stream",
     "text": [
      "HTTP request sent, awaiting response... 200 OK\n",
      "Length: unspecified [text/csv]\n",
      "Saving to: '/Users/chris/GradResearch/2023-clqso-ps1-ztf/code/ZTFDR21/2527410_ZTF_r.csv'\n",
      "\n",
      "     0K .......... .......... .......... .......... ..........  130K\n",
      "    50K .......... .......... .......... .......... ..........  114K\n",
      "   100K .......... .......                                      207K=0.9s\n",
      "\n",
      "2024-06-16 21:53:34 (130 KB/s) - '/Users/chris/GradResearch/2023-clqso-ps1-ztf/code/ZTFDR21/2527410_ZTF_r.csv' saved [120363]\n",
      "\n"
     ]
    },
    {
     "name": "stdout",
     "output_type": "stream",
     "text": [
      "wget -O /Users/chris/GradResearch/2023-clqso-ps1-ztf/code/ZTFDR21/2527410_ZTF_i.csv \"https://irsa.ipac.caltech.edu/cgi-bin/ZTF/nph_light_curves?POS=CIRCLE 44.906113 0.626771 0.000277778&BANDNAME=i&FORMAT=csv&NOBS_MIN=3\"\n"
     ]
    },
    {
     "name": "stderr",
     "output_type": "stream",
     "text": [
      "--2024-06-16 21:53:35--  https://irsa.ipac.caltech.edu/cgi-bin/ZTF/nph_light_curves?POS=CIRCLE%2044.906113%200.626771%200.000277778&BANDNAME=i&FORMAT=csv&NOBS_MIN=3\n",
      "Resolving irsa.ipac.caltech.edu... 134.4.54.87\n",
      "Connecting to irsa.ipac.caltech.edu|134.4.54.87|:443... connected.\n",
      "HTTP request sent, awaiting response... 200 OK\n",
      "Length: unspecified [text/csv]\n",
      "Saving to: '/Users/chris/GradResearch/2023-clqso-ps1-ztf/code/ZTFDR21/2527410_ZTF_i.csv'\n",
      "\n",
      "     0K .......... ......                                       365K=0.04s\n",
      "\n",
      "2024-06-16 21:53:36 (365 KB/s) - '/Users/chris/GradResearch/2023-clqso-ps1-ztf/code/ZTFDR21/2527410_ZTF_i.csv' saved [16473]\n",
      "\n",
      "--2024-06-16 21:53:36--  https://irsa.ipac.caltech.edu/cgi-bin/ZTF/nph_light_curves?POS=CIRCLE%2025.0711%20-0.834172%200.000277778&BANDNAME=g&FORMAT=csv&NOBS_MIN=3\n",
      "Resolving irsa.ipac.caltech.edu... 134.4.54.87\n",
      "Connecting to irsa.ipac.caltech.edu|134.4.54.87|:443... connected.\n"
     ]
    },
    {
     "name": "stdout",
     "output_type": "stream",
     "text": [
      "wget -O /Users/chris/GradResearch/2023-clqso-ps1-ztf/code/ZTFDR21/1340680_ZTF_g.csv \"https://irsa.ipac.caltech.edu/cgi-bin/ZTF/nph_light_curves?POS=CIRCLE 25.0711 -0.834172 0.000277778&BANDNAME=g&FORMAT=csv&NOBS_MIN=3\"\n"
     ]
    },
    {
     "name": "stderr",
     "output_type": "stream",
     "text": [
      "HTTP request sent, awaiting response... 200 OK\n",
      "Length: unspecified [text/csv]\n",
      "Saving to: '/Users/chris/GradResearch/2023-clqso-ps1-ztf/code/ZTFDR21/1340680_ZTF_g.csv'\n",
      "\n",
      "     0K .......... .                                           20.8M=0.001s\n",
      "\n",
      "2024-06-16 21:53:38 (20.8 MB/s) - '/Users/chris/GradResearch/2023-clqso-ps1-ztf/code/ZTFDR21/1340680_ZTF_g.csv' saved [12236]\n",
      "\n",
      "--2024-06-16 21:53:38--  https://irsa.ipac.caltech.edu/cgi-bin/ZTF/nph_light_curves?POS=CIRCLE%2025.0711%20-0.834172%200.000277778&BANDNAME=r&FORMAT=csv&NOBS_MIN=3\n",
      "Resolving irsa.ipac.caltech.edu... 134.4.54.87\n",
      "Connecting to irsa.ipac.caltech.edu|134.4.54.87|:443... connected.\n"
     ]
    },
    {
     "name": "stdout",
     "output_type": "stream",
     "text": [
      "wget -O /Users/chris/GradResearch/2023-clqso-ps1-ztf/code/ZTFDR21/1340680_ZTF_r.csv \"https://irsa.ipac.caltech.edu/cgi-bin/ZTF/nph_light_curves?POS=CIRCLE 25.0711 -0.834172 0.000277778&BANDNAME=r&FORMAT=csv&NOBS_MIN=3\"\n"
     ]
    },
    {
     "name": "stderr",
     "output_type": "stream",
     "text": [
      "HTTP request sent, awaiting response... 200 OK\n",
      "Length: unspecified [text/csv]\n",
      "Saving to: '/Users/chris/GradResearch/2023-clqso-ps1-ztf/code/ZTFDR21/1340680_ZTF_r.csv'\n",
      "\n",
      "     0K .......... ..                                           311K=0.04s\n",
      "\n",
      "2024-06-16 21:53:43 (311 KB/s) - '/Users/chris/GradResearch/2023-clqso-ps1-ztf/code/ZTFDR21/1340680_ZTF_r.csv' saved [13141]\n",
      "\n",
      "--2024-06-16 21:53:43--  https://irsa.ipac.caltech.edu/cgi-bin/ZTF/nph_light_curves?POS=CIRCLE%2025.0711%20-0.834172%200.000277778&BANDNAME=i&FORMAT=csv&NOBS_MIN=3\n",
      "Resolving irsa.ipac.caltech.edu... 134.4.54.87\n",
      "Connecting to irsa.ipac.caltech.edu|134.4.54.87|:443... connected.\n"
     ]
    },
    {
     "name": "stdout",
     "output_type": "stream",
     "text": [
      "wget -O /Users/chris/GradResearch/2023-clqso-ps1-ztf/code/ZTFDR21/1340680_ZTF_i.csv \"https://irsa.ipac.caltech.edu/cgi-bin/ZTF/nph_light_curves?POS=CIRCLE 25.0711 -0.834172 0.000277778&BANDNAME=i&FORMAT=csv&NOBS_MIN=3\"\n"
     ]
    },
    {
     "name": "stderr",
     "output_type": "stream",
     "text": [
      "HTTP request sent, awaiting response... 200 OK\n",
      "Length: unspecified [text/csv]\n",
      "Saving to: '/Users/chris/GradResearch/2023-clqso-ps1-ztf/code/ZTFDR21/1340680_ZTF_i.csv'\n",
      "\n",
      "     0K                                                        2.66M=0s\n",
      "\n",
      "2024-06-16 21:53:46 (2.66 MB/s) - '/Users/chris/GradResearch/2023-clqso-ps1-ztf/code/ZTFDR21/1340680_ZTF_i.csv' saved [162]\n",
      "\n",
      "--2024-06-16 21:53:46--  https://irsa.ipac.caltech.edu/cgi-bin/ZTF/nph_light_curves?POS=CIRCLE%20348.351898%200.579041%200.000277778&BANDNAME=g&FORMAT=csv&NOBS_MIN=3\n",
      "Resolving irsa.ipac.caltech.edu... 134.4.54.87\n",
      "Connecting to irsa.ipac.caltech.edu|134.4.54.87|:443... connected.\n"
     ]
    },
    {
     "name": "stdout",
     "output_type": "stream",
     "text": [
      "wget -O /Users/chris/GradResearch/2023-clqso-ps1-ztf/code/ZTFDR21/490357_ZTF_g.csv \"https://irsa.ipac.caltech.edu/cgi-bin/ZTF/nph_light_curves?POS=CIRCLE 348.351898 0.579041 0.000277778&BANDNAME=g&FORMAT=csv&NOBS_MIN=3\"\n"
     ]
    },
    {
     "name": "stderr",
     "output_type": "stream",
     "text": [
      "HTTP request sent, awaiting response... 200 OK\n",
      "Length: unspecified [text/csv]\n",
      "Saving to: '/Users/chris/GradResearch/2023-clqso-ps1-ztf/code/ZTFDR21/490357_ZTF_g.csv'\n",
      "\n",
      "     0K .......... .......... .......... .......... ..........  259K\n",
      "    50K .......... .......... .......... .......... ..........  328K\n",
      "   100K .......                                                 765K=0.4s\n",
      "\n",
      "2024-06-16 21:53:48 (302 KB/s) - '/Users/chris/GradResearch/2023-clqso-ps1-ztf/code/ZTFDR21/490357_ZTF_g.csv' saved [109819]\n",
      "\n",
      "--2024-06-16 21:53:48--  https://irsa.ipac.caltech.edu/cgi-bin/ZTF/nph_light_curves?POS=CIRCLE%20348.351898%200.579041%200.000277778&BANDNAME=r&FORMAT=csv&NOBS_MIN=3\n"
     ]
    },
    {
     "name": "stdout",
     "output_type": "stream",
     "text": [
      "wget -O /Users/chris/GradResearch/2023-clqso-ps1-ztf/code/ZTFDR21/490357_ZTF_r.csv \"https://irsa.ipac.caltech.edu/cgi-bin/ZTF/nph_light_curves?POS=CIRCLE 348.351898 0.579041 0.000277778&BANDNAME=r&FORMAT=csv&NOBS_MIN=3\"\n"
     ]
    },
    {
     "name": "stderr",
     "output_type": "stream",
     "text": [
      "Resolving irsa.ipac.caltech.edu... 134.4.54.87\n",
      "Connecting to irsa.ipac.caltech.edu|134.4.54.87|:443... connected.\n",
      "HTTP request sent, awaiting response... 200 OK\n",
      "Length: unspecified [text/csv]\n",
      "Saving to: '/Users/chris/GradResearch/2023-clqso-ps1-ztf/code/ZTFDR21/490357_ZTF_r.csv'\n",
      "\n",
      "     0K .......... .......... .......... .......... ..........  277K\n",
      "    50K .......... .......... .......... .......... ..........  181K\n",
      "   100K ...                                                    71.0K=0.5s\n",
      "\n",
      "2024-06-16 21:53:52 (226 KB/s) - '/Users/chris/GradResearch/2023-clqso-ps1-ztf/code/ZTFDR21/490357_ZTF_r.csv' saved [106035]\n",
      "\n",
      "--2024-06-16 21:53:52--  https://irsa.ipac.caltech.edu/cgi-bin/ZTF/nph_light_curves?POS=CIRCLE%20348.351898%200.579041%200.000277778&BANDNAME=i&FORMAT=csv&NOBS_MIN=3\n",
      "Resolving irsa.ipac.caltech.edu... 134.4.54.87\n",
      "Connecting to irsa.ipac.caltech.edu|134.4.54.87|:443... connected.\n"
     ]
    },
    {
     "name": "stdout",
     "output_type": "stream",
     "text": [
      "wget -O /Users/chris/GradResearch/2023-clqso-ps1-ztf/code/ZTFDR21/490357_ZTF_i.csv \"https://irsa.ipac.caltech.edu/cgi-bin/ZTF/nph_light_curves?POS=CIRCLE 348.351898 0.579041 0.000277778&BANDNAME=i&FORMAT=csv&NOBS_MIN=3\"\n"
     ]
    },
    {
     "name": "stderr",
     "output_type": "stream",
     "text": [
      "HTTP request sent, awaiting response... 200 OK\n",
      "Length: unspecified [text/csv]\n",
      "Saving to: '/Users/chris/GradResearch/2023-clqso-ps1-ztf/code/ZTFDR21/490357_ZTF_i.csv'\n",
      "\n",
      "     0K .......... .......... ....                              555K=0.04s\n",
      "\n",
      "2024-06-16 21:53:53 (555 KB/s) - '/Users/chris/GradResearch/2023-clqso-ps1-ztf/code/ZTFDR21/490357_ZTF_i.csv' saved [25152]\n",
      "\n",
      "--2024-06-16 21:53:53--  https://irsa.ipac.caltech.edu/cgi-bin/ZTF/nph_light_curves?POS=CIRCLE%2046.093304%200.375513%200.000277778&BANDNAME=g&FORMAT=csv&NOBS_MIN=3\n",
      "Resolving irsa.ipac.caltech.edu... 134.4.54.87\n",
      "Connecting to irsa.ipac.caltech.edu|134.4.54.87|:443... connected.\n"
     ]
    },
    {
     "name": "stdout",
     "output_type": "stream",
     "text": [
      "wget -O /Users/chris/GradResearch/2023-clqso-ps1-ztf/code/ZTFDR21/3063512_ZTF_g.csv \"https://irsa.ipac.caltech.edu/cgi-bin/ZTF/nph_light_curves?POS=CIRCLE 46.093304 0.375513 0.000277778&BANDNAME=g&FORMAT=csv&NOBS_MIN=3\"\n"
     ]
    },
    {
     "name": "stderr",
     "output_type": "stream",
     "text": [
      "HTTP request sent, awaiting response... 200 OK\n",
      "Length: unspecified [text/csv]\n",
      "Saving to: '/Users/chris/GradResearch/2023-clqso-ps1-ztf/code/ZTFDR21/3063512_ZTF_g.csv'\n",
      "\n",
      "     0K .......... .......... .......... .......... ..........  274K\n",
      "    50K .......... .......... .......... .......... ..........  330K\n",
      "   100K .......... .........                                    318K=0.4s\n",
      "\n",
      "2024-06-16 21:53:57 (302 KB/s) - '/Users/chris/GradResearch/2023-clqso-ps1-ztf/code/ZTFDR21/3063512_ZTF_g.csv' saved [121971]\n",
      "\n"
     ]
    },
    {
     "name": "stdout",
     "output_type": "stream",
     "text": [
      "wget -O /Users/chris/GradResearch/2023-clqso-ps1-ztf/code/ZTFDR21/3063512_ZTF_r.csv \"https://irsa.ipac.caltech.edu/cgi-bin/ZTF/nph_light_curves?POS=CIRCLE 46.093304 0.375513 0.000277778&BANDNAME=r&FORMAT=csv&NOBS_MIN=3\"\n"
     ]
    },
    {
     "name": "stderr",
     "output_type": "stream",
     "text": [
      "--2024-06-16 21:53:57--  https://irsa.ipac.caltech.edu/cgi-bin/ZTF/nph_light_curves?POS=CIRCLE%2046.093304%200.375513%200.000277778&BANDNAME=r&FORMAT=csv&NOBS_MIN=3\n",
      "Resolving irsa.ipac.caltech.edu... 134.4.54.87\n",
      "Connecting to irsa.ipac.caltech.edu|134.4.54.87|:443... connected.\n",
      "HTTP request sent, awaiting response... 200 OK\n",
      "Length: unspecified [text/csv]\n",
      "Saving to: '/Users/chris/GradResearch/2023-clqso-ps1-ztf/code/ZTFDR21/3063512_ZTF_r.csv'\n",
      "\n",
      "     0K .......... .......... .......... .......... ..........  233K\n",
      "    50K .......... .......... .......... .......... ..........  207K\n",
      "   100K .......... .......... .                                 144K=0.6s\n",
      "\n",
      "2024-06-16 21:53:59 (201 KB/s) - '/Users/chris/GradResearch/2023-clqso-ps1-ztf/code/ZTFDR21/3063512_ZTF_r.csv' saved [124172]\n",
      "\n"
     ]
    },
    {
     "name": "stdout",
     "output_type": "stream",
     "text": [
      "wget -O /Users/chris/GradResearch/2023-clqso-ps1-ztf/code/ZTFDR21/3063512_ZTF_i.csv \"https://irsa.ipac.caltech.edu/cgi-bin/ZTF/nph_light_curves?POS=CIRCLE 46.093304 0.375513 0.000277778&BANDNAME=i&FORMAT=csv&NOBS_MIN=3\"\n"
     ]
    },
    {
     "name": "stderr",
     "output_type": "stream",
     "text": [
      "--2024-06-16 21:53:59--  https://irsa.ipac.caltech.edu/cgi-bin/ZTF/nph_light_curves?POS=CIRCLE%2046.093304%200.375513%200.000277778&BANDNAME=i&FORMAT=csv&NOBS_MIN=3\n",
      "Resolving irsa.ipac.caltech.edu... 134.4.54.87\n",
      "Connecting to irsa.ipac.caltech.edu|134.4.54.87|:443... connected.\n",
      "HTTP request sent, awaiting response... 200 OK\n",
      "Length: unspecified [text/csv]\n",
      "Saving to: '/Users/chris/GradResearch/2023-clqso-ps1-ztf/code/ZTFDR21/3063512_ZTF_i.csv'\n",
      "\n",
      "     0K .......... .....                                        382K=0.04s\n",
      "\n",
      "2024-06-16 21:54:02 (382 KB/s) - '/Users/chris/GradResearch/2023-clqso-ps1-ztf/code/ZTFDR21/3063512_ZTF_i.csv' saved [16323]\n",
      "\n"
     ]
    }
   ],
   "source": [
    "# check whether a file already exists...\n",
    "dr_path = os.path.join(os.getcwd(), 'ZTFDR21')\n",
    "if not os.path.exists(dr_path):\n",
    "    os.makedirs(dr_path)\n",
    "for row in qso_ps1:\n",
    "    dbId = row['target']\n",
    "    ra = row['ra']\n",
    "    dec = row['dec']\n",
    "    for f in 'gri':\n",
    "        file_name = f'{dbId}_ZTF_{f}.csv'\n",
    "        file_path = os.path.join(dr_path, file_name)\n",
    "        # only query if it doesn't \n",
    "        if not os.path.exists(file_path):\n",
    "            func.get_ZTF_lc(fname=file_name, \n",
    "                          ra=ra, \n",
    "                          dec=dec, \n",
    "                          band=f, \n",
    "                          dr_path=dr_path)\n"
   ]
  },
  {
   "cell_type": "code",
   "execution_count": null,
   "id": "ec3f506f",
   "metadata": {},
   "outputs": [],
   "source": []
  }
 ],
 "metadata": {
  "kernelspec": {
   "display_name": "Python 3 (ipykernel)",
   "language": "python",
   "name": "python3"
  },
  "language_info": {
   "codemirror_mode": {
    "name": "ipython",
    "version": 3
   },
   "file_extension": ".py",
   "mimetype": "text/x-python",
   "name": "python",
   "nbconvert_exporter": "python",
   "pygments_lexer": "ipython3",
   "version": "3.8.5"
  }
 },
 "nbformat": 4,
 "nbformat_minor": 5
}
